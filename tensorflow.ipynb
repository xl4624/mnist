{
 "cells": [
  {
   "cell_type": "code",
   "execution_count": 37,
   "id": "fa6ae443-d1cd-4aac-a7ae-0a977823fcef",
   "metadata": {},
   "outputs": [],
   "source": [
    "import tensorflow as tf\n",
    "from matplotlib import pyplot as plt\n",
    "import numpy as np\n",
    "\n",
    "from utils import show_image\n",
    "\n",
    "(train_images, train_labels), (test_images, test_labels) = tf.keras.datasets.mnist.load_data()"
   ]
  },
  {
   "cell_type": "code",
   "execution_count": 41,
   "id": "20e9b565-a5e0-4a8b-9bc2-1fb3e35d13e9",
   "metadata": {},
   "outputs": [
    {
     "name": "stdout",
     "output_type": "stream",
     "text": [
      "Training model...\n",
      "Epoch 1/5\n",
      "1875/1875 [==============================] - 2s 1ms/step - loss: 2.6095 - accuracy: 0.8742\n",
      "Epoch 2/5\n",
      "1875/1875 [==============================] - 2s 920us/step - loss: 0.5671 - accuracy: 0.9295\n",
      "Epoch 3/5\n",
      "1875/1875 [==============================] - 2s 930us/step - loss: 0.4698 - accuracy: 0.9445\n",
      "Epoch 4/5\n",
      "1875/1875 [==============================] - 2s 828us/step - loss: 0.4290 - accuracy: 0.9510\n",
      "Epoch 5/5\n",
      "1875/1875 [==============================] - 1s 786us/step - loss: 0.3916 - accuracy: 0.9544\n",
      "\n",
      "Evaluating model...\n",
      "313/313 [==============================] - 0s 430us/step - loss: 0.5433 - accuracy: 0.9480\n"
     ]
    }
   ],
   "source": [
    "model = tf.keras.models.Sequential([\n",
    "    tf.keras.layers.Flatten(input_shape=(28, 28)),\n",
    "    tf.keras.layers.Dense(128, activation='relu'),\n",
    "    tf.keras.layers.Dense(10, activation='softmax'),\n",
    "])\n",
    "model.compile(optimizer='rmsprop', loss='sparse_categorical_crossentropy', metrics=['accuracy'])\n",
    "\n",
    "print(\"Training model...\")\n",
    "model.fit(train_images, train_labels, epochs=5)\n",
    "\n",
    "print(\"\\nEvaluating model...\")\n",
    "loss, accuracy = model.evaluate(test_images, test_labels)\n"
   ]
  }
 ],
 "metadata": {
  "kernelspec": {
   "display_name": "Python 3 (ipykernel)",
   "language": "python",
   "name": "python3"
  },
  "language_info": {
   "codemirror_mode": {
    "name": "ipython",
    "version": 3
   },
   "file_extension": ".py",
   "mimetype": "text/x-python",
   "name": "python",
   "nbconvert_exporter": "python",
   "pygments_lexer": "ipython3",
   "version": "3.11.5"
  }
 },
 "nbformat": 4,
 "nbformat_minor": 5
}
